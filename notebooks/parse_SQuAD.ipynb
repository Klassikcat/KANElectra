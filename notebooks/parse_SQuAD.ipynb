{
 "cells": [
  {
   "cell_type": "code",
   "execution_count": 5,
   "metadata": {},
   "outputs": [],
   "source": [
    "import ujson\n",
    "\n",
    "with open(\"../data/dev-v2.0.json\", \"r\") as f:\n",
    "    data = ujson.load(f)"
   ]
  },
  {
   "cell_type": "code",
   "execution_count": 14,
   "metadata": {},
   "outputs": [
    {
     "name": "stdout",
     "output_type": "stream",
     "text": [
      "number of datasets: 35\n",
      "number of paragraphs: 39\n",
      "keys of first paragraph: dict_keys(['qas', 'context'])\n",
      "number of questions: 9\n"
     ]
    }
   ],
   "source": [
    "print(f\"number of datasets: {len(data['data'])}\")\n",
    "print(f\"number of paragraphs: {len(data[\"data\"][0][\"paragraphs\"])}\")\n",
    "print(f\"keys of first paragraph: {data[\"data\"][0][\"paragraphs\"][0].keys()}\")\n",
    "print(f\"number of questions: {len(data[\"data\"][0][\"paragraphs\"][0][\"qas\"])}\")"
   ]
  },
  {
   "cell_type": "code",
   "execution_count": 10,
   "metadata": {},
   "outputs": [
    {
     "data": {
      "text/plain": [
       "{'question': 'In what country is Normandy located?',\n",
       " 'id': '56ddde6b9a695914005b9628',\n",
       " 'answers': [{'text': 'France', 'answer_start': 159},\n",
       "  {'text': 'France', 'answer_start': 159},\n",
       "  {'text': 'France', 'answer_start': 159},\n",
       "  {'text': 'France', 'answer_start': 159}],\n",
       " 'is_impossible': False}"
      ]
     },
     "execution_count": 10,
     "metadata": {},
     "output_type": "execute_result"
    }
   ],
   "source": [
    "data[\"data\"][0][\"paragraphs\"][0][\"qas\"][0]"
   ]
  },
  {
   "cell_type": "code",
   "execution_count": 20,
   "metadata": {},
   "outputs": [],
   "source": [
    "datasets = []\n",
    "for dataset in data[\"data\"]:\n",
    "    for paragraph in dataset[\"paragraphs\"]:\n",
    "        for qa in paragraph[\"qas\"]:\n",
    "            if qa[\"is_impossible\"] == False:\n",
    "                datasets.append(f\"{qa[\"question\"]} {qa[\"answers\"][0][\"text\"]}\")"
   ]
  },
  {
   "cell_type": "code",
   "execution_count": 22,
   "metadata": {},
   "outputs": [
    {
     "data": {
      "text/plain": [
       "5928"
      ]
     },
     "execution_count": 22,
     "metadata": {},
     "output_type": "execute_result"
    }
   ],
   "source": [
    "len(datasets)"
   ]
  },
  {
   "cell_type": "code",
   "execution_count": null,
   "metadata": {},
   "outputs": [],
   "source": []
  }
 ],
 "metadata": {
  "kernelspec": {
   "display_name": ".venv",
   "language": "python",
   "name": "python3"
  },
  "language_info": {
   "codemirror_mode": {
    "name": "ipython",
    "version": 3
   },
   "file_extension": ".py",
   "mimetype": "text/x-python",
   "name": "python",
   "nbconvert_exporter": "python",
   "pygments_lexer": "ipython3",
   "version": "3.13.0"
  }
 },
 "nbformat": 4,
 "nbformat_minor": 2
}
